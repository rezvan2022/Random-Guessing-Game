{
 "cells": [
  {
   "cell_type": "code",
   "execution_count": null,
   "metadata": {},
   "outputs": [],
   "source": [
    "import random\n",
    "\n",
    "# Ask the player if they want to play a random number guessing game.\n",
    "Playing = input(\"Do you want to play a random number guessing game? \").lower()\n",
    "if Playing != \"yes\":\n",
    "    quit()\n",
    "else:\n",
    "    print(\"OK, Let's go!\")\n",
    "\n",
    "# Get the start of the interval with input validation.\n",
    "start = input(\"What is the start of your interval: \")\n",
    "while not start.isdigit():\n",
    "    start = input(\"Input is invalid, it must be an integer: \")\n",
    "start = int(start)\n",
    "print(\"Accepted input!\")\n",
    "\n",
    "# Get the end of the interval with input validation.\n",
    "end = input(\"What is the end of your interval: \")\n",
    "while not end.isdigit() or int(end) <= start:\n",
    "    end = input(\"Input is invalid. It must be an integer greater than the start: \")\n",
    "end = int(end)\n",
    "print(\"Accepted input!\")\n",
    "\n",
    "# Calculate the number of guesses and generate the random number.\n",
    "interval_valid = end - start\n",
    "rand_number = random.randrange(start, end + 1)\n",
    "Number_of_guess = min(int(interval_valid // 3), 5)\n",
    "print(\"You have\", Number_of_guess, \"chances to win\")\n",
    "\n",
    "# Define a function for the player's guessing process.\n",
    "def guess_function():\n",
    "    Guess = int(input(\"Now you need to guess what the random number is: \"))\n",
    "    if Guess > rand_number:\n",
    "        print(\"Your answer is greater than the target random number.\")\n",
    "    elif Guess < rand_number:\n",
    "        print(\"Your answer is smaller than the target random number.\")\n",
    "    else:\n",
    "        print(\"Congrats! You won! The random number was\", rand_number)\n",
    "    return Guess\n",
    "\n",
    "# Loop through the guessing process for the specified number of guesses.\n",
    "for i in range(Number_of_guess):\n",
    "    Guessed_number = guess_function()\n",
    "\n",
    "    # Check if the guessed number is equal to the random number and end the game if so.\n",
    "    if Guessed_number == rand_number:\n",
    "        print(\"You Won!!\")\n",
    "        break\n",
    "\n",
    "# If the loop completes without the player guessing correctly, inform them of the correct number.\n",
    "print(\"Sorry, you ran out of chances!! The correct number was\", rand_number)\n"
   ]
  }
 ],
 "metadata": {
  "kernelspec": {
   "display_name": "Python 3",
   "language": "python",
   "name": "python3"
  },
  "language_info": {
   "codemirror_mode": {
    "name": "ipython",
    "version": 3
   },
   "file_extension": ".py",
   "mimetype": "text/x-python",
   "name": "python",
   "nbconvert_exporter": "python",
   "pygments_lexer": "ipython3",
   "version": "3.11.2"
  }
 },
 "nbformat": 4,
 "nbformat_minor": 2
}
